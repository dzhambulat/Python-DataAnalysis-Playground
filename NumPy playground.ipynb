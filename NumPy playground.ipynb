{
 "cells": [
  {
   "cell_type": "code",
   "execution_count": 1,
   "metadata": {},
   "outputs": [
    {
     "data": {
      "text/plain": [
       "2"
      ]
     },
     "execution_count": 1,
     "metadata": {},
     "output_type": "execute_result"
    }
   ],
   "source": [
    "1+1"
   ]
  },
  {
   "cell_type": "code",
   "execution_count": 6,
   "metadata": {},
   "outputs": [],
   "source": [
    "import numpy as np"
   ]
  },
  {
   "cell_type": "code",
   "execution_count": 10,
   "metadata": {},
   "outputs": [],
   "source": [
    "a = np.random.rand(3,5)"
   ]
  },
  {
   "cell_type": "code",
   "execution_count": 11,
   "metadata": {},
   "outputs": [
    {
     "data": {
      "text/plain": [
       "array([[0.50172536, 0.68795649, 0.98132375, 0.37810334, 0.42131049],\n",
       "       [0.79282541, 0.26386815, 0.04045531, 0.24068916, 0.37174711],\n",
       "       [0.4729242 , 0.21778218, 0.1428758 , 0.64145217, 0.86257391]])"
      ]
     },
     "execution_count": 11,
     "metadata": {},
     "output_type": "execute_result"
    }
   ],
   "source": [
    "a"
   ]
  },
  {
   "cell_type": "code",
   "execution_count": 12,
   "metadata": {},
   "outputs": [],
   "source": [
    "# reduce sum\n",
    "b = np.add.reduce(a)"
   ]
  },
  {
   "cell_type": "code",
   "execution_count": 13,
   "metadata": {},
   "outputs": [
    {
     "data": {
      "text/plain": [
       "array([1.76747497, 1.16960682, 1.16465485, 1.26024467, 1.65563151])"
      ]
     },
     "execution_count": 13,
     "metadata": {},
     "output_type": "execute_result"
    }
   ],
   "source": [
    "b"
   ]
  },
  {
   "cell_type": "code",
   "execution_count": 17,
   "metadata": {},
   "outputs": [],
   "source": [
    "c = np.add.reduce(array = a, axis=1)"
   ]
  },
  {
   "cell_type": "code",
   "execution_count": 18,
   "metadata": {},
   "outputs": [
    {
     "data": {
      "text/plain": [
       "array([2.97041942, 1.70958513, 2.33760826])"
      ]
     },
     "execution_count": 18,
     "metadata": {},
     "output_type": "execute_result"
    }
   ],
   "source": [
    "c"
   ]
  },
  {
   "cell_type": "code",
   "execution_count": 21,
   "metadata": {},
   "outputs": [],
   "source": [
    "d = np.vstack((a,b))\n"
   ]
  },
  {
   "cell_type": "code",
   "execution_count": 22,
   "metadata": {},
   "outputs": [
    {
     "data": {
      "text/plain": [
       "array([[0.50172536, 0.68795649, 0.98132375, 0.37810334, 0.42131049],\n",
       "       [0.79282541, 0.26386815, 0.04045531, 0.24068916, 0.37174711],\n",
       "       [0.4729242 , 0.21778218, 0.1428758 , 0.64145217, 0.86257391],\n",
       "       [1.76747497, 1.16960682, 1.16465485, 1.26024467, 1.65563151]])"
      ]
     },
     "execution_count": 22,
     "metadata": {},
     "output_type": "execute_result"
    }
   ],
   "source": [
    "d"
   ]
  },
  {
   "cell_type": "code",
   "execution_count": 38,
   "metadata": {},
   "outputs": [
    {
     "data": {
      "text/plain": [
       "array([[0.50172536, 0.68795649, 0.98132375, 0.37810334, 0.42131049,\n",
       "        2.97041942],\n",
       "       [0.79282541, 0.26386815, 0.04045531, 0.24068916, 0.37174711,\n",
       "        1.70958513],\n",
       "       [0.4729242 , 0.21778218, 0.1428758 , 0.64145217, 0.86257391,\n",
       "        2.33760826]])"
      ]
     },
     "execution_count": 38,
     "metadata": {},
     "output_type": "execute_result"
    }
   ],
   "source": [
    "e = np.hstack((d[:3], c.reshape(3,1)))\n",
    "e\n"
   ]
  },
  {
   "cell_type": "code",
   "execution_count": 39,
   "metadata": {},
   "outputs": [
    {
     "data": {
      "text/plain": [
       "array([[5.01725361e-01, 6.87956486e-01, 9.81323747e-01, 3.78103337e-01,\n",
       "        4.21310493e-01, 2.97041942e+00],\n",
       "       [3.97780614e-01, 1.81529808e-01, 3.96997525e-02, 9.10053729e-02,\n",
       "        1.56620957e-01, 5.07818489e+00],\n",
       "       [1.88120079e-01, 3.95339574e-02, 5.67213383e-03, 5.83755942e-02,\n",
       "        1.35097152e-01, 1.18708070e+01]])"
      ]
     },
     "execution_count": 39,
     "metadata": {},
     "output_type": "execute_result"
    }
   ],
   "source": [
    "acc_mul = np.multiply.accumulate(e)\n",
    "acc_mul"
   ]
  },
  {
   "cell_type": "code",
   "execution_count": null,
   "metadata": {},
   "outputs": [],
   "source": []
  }
 ],
 "metadata": {
  "kernelspec": {
   "display_name": "Python 3",
   "language": "python",
   "name": "python3"
  },
  "language_info": {
   "codemirror_mode": {
    "name": "ipython",
    "version": 3
   },
   "file_extension": ".py",
   "mimetype": "text/x-python",
   "name": "python",
   "nbconvert_exporter": "python",
   "pygments_lexer": "ipython3",
   "version": "3.7.0"
  }
 },
 "nbformat": 4,
 "nbformat_minor": 2
}
