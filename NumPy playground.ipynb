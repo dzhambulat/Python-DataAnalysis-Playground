{
 "cells": [
  {
   "cell_type": "code",
   "execution_count": 1,
   "metadata": {},
   "outputs": [
    {
     "data": {
      "text/plain": [
       "2"
      ]
     },
     "execution_count": 1,
     "metadata": {},
     "output_type": "execute_result"
    }
   ],
   "source": [
    "1+1"
   ]
  },
  {
   "cell_type": "code",
   "execution_count": 2,
   "metadata": {},
   "outputs": [],
   "source": [
    "import numpy as np"
   ]
  },
  {
   "cell_type": "code",
   "execution_count": 3,
   "metadata": {},
   "outputs": [],
   "source": [
    "a = np.random.rand(3,5)"
   ]
  },
  {
   "cell_type": "code",
   "execution_count": 4,
   "metadata": {},
   "outputs": [
    {
     "data": {
      "text/plain": [
       "array([[0.78470826, 0.8842201 , 0.07971765, 0.34916282, 0.47118047],\n",
       "       [0.69125097, 0.98582819, 0.67742217, 0.44219085, 0.09078037],\n",
       "       [0.96044898, 0.64625625, 0.19947453, 0.48763739, 0.34309357]])"
      ]
     },
     "execution_count": 4,
     "metadata": {},
     "output_type": "execute_result"
    }
   ],
   "source": [
    "a"
   ]
  },
  {
   "cell_type": "code",
   "execution_count": 5,
   "metadata": {},
   "outputs": [],
   "source": [
    "# reduce sum\n",
    "b = np.add.reduce(a)"
   ]
  },
  {
   "cell_type": "code",
   "execution_count": 6,
   "metadata": {},
   "outputs": [
    {
     "data": {
      "text/plain": [
       "array([2.43640821, 2.51630454, 0.95661434, 1.27899105, 0.90505441])"
      ]
     },
     "execution_count": 6,
     "metadata": {},
     "output_type": "execute_result"
    }
   ],
   "source": [
    "b"
   ]
  },
  {
   "cell_type": "code",
   "execution_count": 7,
   "metadata": {},
   "outputs": [],
   "source": [
    "c = np.add.reduce(array = a, axis=1)"
   ]
  },
  {
   "cell_type": "code",
   "execution_count": 8,
   "metadata": {},
   "outputs": [
    {
     "data": {
      "text/plain": [
       "array([2.56898929, 2.88747256, 2.63691071])"
      ]
     },
     "execution_count": 8,
     "metadata": {},
     "output_type": "execute_result"
    }
   ],
   "source": [
    "c"
   ]
  },
  {
   "cell_type": "code",
   "execution_count": 9,
   "metadata": {},
   "outputs": [],
   "source": [
    "d = np.vstack((a,b))\n"
   ]
  },
  {
   "cell_type": "code",
   "execution_count": 10,
   "metadata": {},
   "outputs": [
    {
     "data": {
      "text/plain": [
       "array([[0.78470826, 0.8842201 , 0.07971765, 0.34916282, 0.47118047],\n",
       "       [0.69125097, 0.98582819, 0.67742217, 0.44219085, 0.09078037],\n",
       "       [0.96044898, 0.64625625, 0.19947453, 0.48763739, 0.34309357],\n",
       "       [2.43640821, 2.51630454, 0.95661434, 1.27899105, 0.90505441]])"
      ]
     },
     "execution_count": 10,
     "metadata": {},
     "output_type": "execute_result"
    }
   ],
   "source": [
    "d"
   ]
  },
  {
   "cell_type": "code",
   "execution_count": 11,
   "metadata": {},
   "outputs": [
    {
     "data": {
      "text/plain": [
       "array([[0.78470826, 0.8842201 , 0.07971765, 0.34916282, 0.47118047,\n",
       "        2.56898929],\n",
       "       [0.69125097, 0.98582819, 0.67742217, 0.44219085, 0.09078037,\n",
       "        2.88747256],\n",
       "       [0.96044898, 0.64625625, 0.19947453, 0.48763739, 0.34309357,\n",
       "        2.63691071]])"
      ]
     },
     "execution_count": 11,
     "metadata": {},
     "output_type": "execute_result"
    }
   ],
   "source": [
    "e = np.hstack((d[:3], c.reshape(3,1)))\n",
    "e\n"
   ]
  },
  {
   "cell_type": "code",
   "execution_count": 12,
   "metadata": {},
   "outputs": [
    {
     "data": {
      "text/plain": [
       "array([[7.84708262e-01, 8.84220096e-01, 7.97176461e-02, 3.49162815e-01,\n",
       "        4.71180468e-01, 2.56898929e+00],\n",
       "       [5.42430350e-01, 8.71689100e-01, 5.40025005e-02, 1.54396603e-01,\n",
       "        4.27739381e-02, 7.41788607e+00],\n",
       "       [5.20976674e-01, 5.63334531e-01, 1.07721235e-02, 7.52895560e-02,\n",
       "        1.46754629e-02, 1.95603032e+01]])"
      ]
     },
     "execution_count": 12,
     "metadata": {},
     "output_type": "execute_result"
    }
   ],
   "source": [
    "acc_mul = np.multiply.accumulate(e)\n",
    "acc_mul"
   ]
  },
  {
   "cell_type": "code",
   "execution_count": 13,
   "metadata": {},
   "outputs": [
    {
     "data": {
      "text/plain": [
       "array([[3.22111647, 3.40052464, 1.03633199, 1.62815387, 1.37623487],\n",
       "       [3.12765918, 3.50213274, 1.63403651, 1.72118191, 0.99583478],\n",
       "       [3.39685719, 3.16256079, 1.15608887, 1.76662844, 1.24814797],\n",
       "       [4.87281642, 5.03260908, 1.91322869, 2.55798211, 1.81010881]])"
      ]
     },
     "execution_count": 13,
     "metadata": {},
     "output_type": "execute_result"
    }
   ],
   "source": [
    "b+d #sum with different shapes"
   ]
  },
  {
   "cell_type": "code",
   "execution_count": 14,
   "metadata": {},
   "outputs": [
    {
     "data": {
      "text/plain": [
       "(5,)"
      ]
     },
     "execution_count": 14,
     "metadata": {},
     "output_type": "execute_result"
    }
   ],
   "source": [
    "b.shape # check shape of b"
   ]
  },
  {
   "cell_type": "code",
   "execution_count": 15,
   "metadata": {},
   "outputs": [
    {
     "data": {
      "text/plain": [
       "(4, 5)"
      ]
     },
     "execution_count": 15,
     "metadata": {},
     "output_type": "execute_result"
    }
   ],
   "source": [
    "d.shape"
   ]
  },
  {
   "cell_type": "code",
   "execution_count": 16,
   "metadata": {},
   "outputs": [
    {
     "data": {
      "text/plain": [
       "array([[1.91186965, 2.22496704, 0.07625904, 0.44657612, 0.42644396],\n",
       "       [1.68416955, 2.48064396, 0.64803176, 0.56555815, 0.08216118],\n",
       "       [2.34004577, 1.62617754, 0.1908202 , 0.62368385, 0.31051834],\n",
       "       [5.93608497, 6.33178855, 0.915111  , 1.63581812, 0.81912348]])"
      ]
     },
     "execution_count": 16,
     "metadata": {},
     "output_type": "execute_result"
    }
   ],
   "source": [
    "b*d"
   ]
  },
  {
   "cell_type": "code",
   "execution_count": 19,
   "metadata": {},
   "outputs": [],
   "source": [
    "b = b[:,np.newaxis]"
   ]
  },
  {
   "cell_type": "code",
   "execution_count": 20,
   "metadata": {},
   "outputs": [
    {
     "ename": "ValueError",
     "evalue": "operands could not be broadcast together with shapes (5,1) (4,5) ",
     "output_type": "error",
     "traceback": [
      "\u001b[0;31m---------------------------------------------------------------------------\u001b[0m",
      "\u001b[0;31mValueError\u001b[0m                                Traceback (most recent call last)",
      "\u001b[0;32m<ipython-input-20-06404003c22e>\u001b[0m in \u001b[0;36m<module>\u001b[0;34m()\u001b[0m\n\u001b[0;32m----> 1\u001b[0;31m \u001b[0mb\u001b[0m\u001b[0;34m+\u001b[0m\u001b[0md\u001b[0m \u001b[0;31m# should generate dims mismatch error\u001b[0m\u001b[0;34m\u001b[0m\u001b[0m\n\u001b[0m",
      "\u001b[0;31mValueError\u001b[0m: operands could not be broadcast together with shapes (5,1) (4,5) "
     ]
    }
   ],
   "source": [
    "b+d # should generate dims mismatch error\n"
   ]
  },
  {
   "cell_type": "code",
   "execution_count": null,
   "metadata": {},
   "outputs": [],
   "source": []
  }
 ],
 "metadata": {
  "kernelspec": {
   "display_name": "Python 3",
   "language": "python",
   "name": "python3"
  },
  "language_info": {
   "codemirror_mode": {
    "name": "ipython",
    "version": 3
   },
   "file_extension": ".py",
   "mimetype": "text/x-python",
   "name": "python",
   "nbconvert_exporter": "python",
   "pygments_lexer": "ipython3",
   "version": "3.7.0"
  }
 },
 "nbformat": 4,
 "nbformat_minor": 2
}
