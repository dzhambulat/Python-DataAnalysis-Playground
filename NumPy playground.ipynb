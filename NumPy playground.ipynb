{
 "cells": [
  {
   "cell_type": "code",
   "execution_count": 2,
   "metadata": {},
   "outputs": [
    {
     "data": {
      "text/plain": [
       "2"
      ]
     },
     "execution_count": 2,
     "metadata": {},
     "output_type": "execute_result"
    }
   ],
   "source": [
    "1+1"
   ]
  },
  {
   "cell_type": "code",
   "execution_count": 3,
   "metadata": {},
   "outputs": [],
   "source": [
    "import numpy as np"
   ]
  },
  {
   "cell_type": "code",
   "execution_count": 4,
   "metadata": {},
   "outputs": [],
   "source": [
    "a = np.random.rand(3,5)"
   ]
  },
  {
   "cell_type": "code",
   "execution_count": 5,
   "metadata": {},
   "outputs": [
    {
     "data": {
      "text/plain": [
       "array([[0.59370572, 0.18743383, 0.43503013, 0.52241933, 0.85613639],\n",
       "       [0.83360716, 0.27279056, 0.50127839, 0.42160598, 0.60307455],\n",
       "       [0.28100196, 0.0150687 , 0.91144702, 0.97375906, 0.57687618]])"
      ]
     },
     "execution_count": 5,
     "metadata": {},
     "output_type": "execute_result"
    }
   ],
   "source": [
    "a"
   ]
  },
  {
   "cell_type": "code",
   "execution_count": 6,
   "metadata": {},
   "outputs": [],
   "source": [
    "# reduce sum\n",
    "b = np.add.reduce(a)"
   ]
  },
  {
   "cell_type": "code",
   "execution_count": 7,
   "metadata": {},
   "outputs": [
    {
     "data": {
      "text/plain": [
       "array([1.70831484, 0.47529308, 1.84775554, 1.91778437, 2.03608713])"
      ]
     },
     "execution_count": 7,
     "metadata": {},
     "output_type": "execute_result"
    }
   ],
   "source": [
    "b"
   ]
  },
  {
   "cell_type": "code",
   "execution_count": 8,
   "metadata": {},
   "outputs": [],
   "source": [
    "c = np.add.reduce(array = a, axis=1)"
   ]
  },
  {
   "cell_type": "code",
   "execution_count": 9,
   "metadata": {},
   "outputs": [
    {
     "data": {
      "text/plain": [
       "array([2.5947254 , 2.63235664, 2.75815291])"
      ]
     },
     "execution_count": 9,
     "metadata": {},
     "output_type": "execute_result"
    }
   ],
   "source": [
    "c"
   ]
  },
  {
   "cell_type": "code",
   "execution_count": 10,
   "metadata": {},
   "outputs": [],
   "source": [
    "d = np.vstack((a,b))\n"
   ]
  },
  {
   "cell_type": "code",
   "execution_count": 11,
   "metadata": {},
   "outputs": [
    {
     "data": {
      "text/plain": [
       "array([[0.59370572, 0.18743383, 0.43503013, 0.52241933, 0.85613639],\n",
       "       [0.83360716, 0.27279056, 0.50127839, 0.42160598, 0.60307455],\n",
       "       [0.28100196, 0.0150687 , 0.91144702, 0.97375906, 0.57687618],\n",
       "       [1.70831484, 0.47529308, 1.84775554, 1.91778437, 2.03608713]])"
      ]
     },
     "execution_count": 11,
     "metadata": {},
     "output_type": "execute_result"
    }
   ],
   "source": [
    "d"
   ]
  },
  {
   "cell_type": "code",
   "execution_count": 12,
   "metadata": {},
   "outputs": [
    {
     "data": {
      "text/plain": [
       "array([[0.59370572, 0.18743383, 0.43503013, 0.52241933, 0.85613639,\n",
       "        2.5947254 ],\n",
       "       [0.83360716, 0.27279056, 0.50127839, 0.42160598, 0.60307455,\n",
       "        2.63235664],\n",
       "       [0.28100196, 0.0150687 , 0.91144702, 0.97375906, 0.57687618,\n",
       "        2.75815291]])"
      ]
     },
     "execution_count": 12,
     "metadata": {},
     "output_type": "execute_result"
    }
   ],
   "source": [
    "e = np.hstack((d[:3], c.reshape(3,1)))\n",
    "e\n"
   ]
  },
  {
   "cell_type": "code",
   "execution_count": 13,
   "metadata": {},
   "outputs": [
    {
     "data": {
      "text/plain": [
       "array([[5.93705718e-01, 1.87433829e-01, 4.35030132e-01, 5.22419334e-01,\n",
       "        8.56136392e-01, 2.59472540e+00],\n",
       "       [4.94917340e-01, 5.11301786e-02, 2.18071203e-01, 2.20255114e-01,\n",
       "        5.16314072e-01, 6.83024265e+00],\n",
       "       [1.39072741e-01, 7.70465155e-04, 1.98760349e-01, 2.14475413e-01,\n",
       "        2.97849290e-01, 1.88388537e+01]])"
      ]
     },
     "execution_count": 13,
     "metadata": {},
     "output_type": "execute_result"
    }
   ],
   "source": [
    "acc_mul = np.multiply.accumulate(e)\n",
    "acc_mul"
   ]
  },
  {
   "cell_type": "code",
   "execution_count": 14,
   "metadata": {},
   "outputs": [
    {
     "data": {
      "text/plain": [
       "array([[2.30202056, 0.66272691, 2.28278567, 2.4402037 , 2.89222352],\n",
       "       [2.541922  , 0.74808364, 2.34903393, 2.33939035, 2.63916168],\n",
       "       [1.9893168 , 0.49036178, 2.75920256, 2.89154343, 2.61296331],\n",
       "       [3.41662968, 0.95058617, 3.69551108, 3.83556874, 4.07217425]])"
      ]
     },
     "execution_count": 14,
     "metadata": {},
     "output_type": "execute_result"
    }
   ],
   "source": [
    "b+d #sum with different shapes"
   ]
  },
  {
   "cell_type": "code",
   "execution_count": 15,
   "metadata": {},
   "outputs": [
    {
     "data": {
      "text/plain": [
       "(5,)"
      ]
     },
     "execution_count": 15,
     "metadata": {},
     "output_type": "execute_result"
    }
   ],
   "source": [
    "b.shape # check shape of b"
   ]
  },
  {
   "cell_type": "code",
   "execution_count": 16,
   "metadata": {},
   "outputs": [
    {
     "data": {
      "text/plain": [
       "(4, 5)"
      ]
     },
     "execution_count": 16,
     "metadata": {},
     "output_type": "execute_result"
    }
   ],
   "source": [
    "d.shape"
   ]
  },
  {
   "cell_type": "code",
   "execution_count": 17,
   "metadata": {},
   "outputs": [
    {
     "data": {
      "text/plain": [
       "array([[1.01423629, 0.089086  , 0.80382934, 1.00188763, 1.74316829],\n",
       "       [1.42406349, 0.12965547, 0.92623992, 0.80854936, 1.22791233],\n",
       "       [0.48003981, 0.00716205, 1.68413128, 1.8674599 , 1.17457017],\n",
       "       [2.91833959, 0.22590351, 3.41420054, 3.67789689, 4.14565079]])"
      ]
     },
     "execution_count": 17,
     "metadata": {},
     "output_type": "execute_result"
    }
   ],
   "source": [
    "b*d"
   ]
  },
  {
   "cell_type": "code",
   "execution_count": 18,
   "metadata": {},
   "outputs": [
    {
     "data": {
      "text/plain": [
       "array([[1.70831484],\n",
       "       [0.47529308],\n",
       "       [1.84775554],\n",
       "       [1.91778437],\n",
       "       [2.03608713]])"
      ]
     },
     "execution_count": 18,
     "metadata": {},
     "output_type": "execute_result"
    }
   ],
   "source": [
    "b[:,np.newaxis]"
   ]
  },
  {
   "cell_type": "code",
   "execution_count": null,
   "metadata": {},
   "outputs": [],
   "source": [
    "b+d # shoul"
   ]
  }
 ],
 "metadata": {
  "kernelspec": {
   "display_name": "Python 3",
   "language": "python",
   "name": "python3"
  },
  "language_info": {
   "codemirror_mode": {
    "name": "ipython",
    "version": 3
   },
   "file_extension": ".py",
   "mimetype": "text/x-python",
   "name": "python",
   "nbconvert_exporter": "python",
   "pygments_lexer": "ipython3",
   "version": "3.7.0"
  }
 },
 "nbformat": 4,
 "nbformat_minor": 2
}
